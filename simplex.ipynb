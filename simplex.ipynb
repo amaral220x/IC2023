{
  "cells": [
    {
      "attachments": {},
      "cell_type": "markdown",
      "metadata": {},
      "source": [
        "Implementação do SIMPLEX: \n",
        "Entrada esperada: \n",
        "    A (np.array) = Coeficientes das restrições\n",
        "    B (np.array) = Vetor dos resultados de cada igualdade\n",
        "    C (np.array) = Coeficientes da F.O\n",
        "    aux (np.array) = Vetor com os sinais \">\", \"<\" referente a cada restrição\n",
        "    r (String) = String que indica se é maximização ou minimização.  "
      ]
    },
    {
      "cell_type": "code",
      "execution_count": 10,
      "metadata": {
        "id": "GkL3KsgOelcN"
      },
      "outputs": [],
      "source": [
        "import numpy as np"
      ]
    },
    {
      "cell_type": "code",
      "execution_count": 11,
      "metadata": {
        "id": "0G_2J0G1GRK_"
      },
      "outputs": [],
      "source": [
        "def criar_tableau(A, b, c):\n",
        "    n_vars = len(c)\n",
        "    n_rest = len(A)\n",
        "    print(c)\n",
        "    T = np.zeros((n_rest + 1, n_rest + n_vars + 1))\n",
        "    for i in range(n_rest): \n",
        "        T[i, :n_vars] = A[i]\n",
        "        T[i, n_vars + i] = 1\n",
        "        T[i, -1] = b[i]\n",
        "    T[-1, :n_vars] = c\n",
        "    return T\n"
      ]
    },
    {
      "cell_type": "code",
      "execution_count": 12,
      "metadata": {},
      "outputs": [],
      "source": [
        "def criar_tableau_min(A, b, c, aux):\n",
        "    n_vars = len(c)\n",
        "    n_rest = len(A)\n",
        "    n_sobra = len(aux)\n",
        "    m = 1000000\n",
        "    y = (n_rest + n_vars + n_sobra) - n_sobra\n",
        "    T = np.zeros((n_rest + 1, n_rest + n_vars + n_sobra))\n",
        "    for i in range(n_rest): \n",
        "        T[i, :n_vars] = A[i]\n",
        "        if aux[i] == \"<\":\n",
        "            T[i, n_vars + i] = 1\n",
        "        elif aux[i] == \">\":\n",
        "            T[i, n_vars + i] = -1\n",
        "            T[i, y] = 1\n",
        "            T[-1, y] = m\n",
        "            y += 1\n",
        "        T[i, -1] = b[i]\n",
        "    T[-1, :n_vars] = c\n",
        "    return T\n",
        "    "
      ]
    },
    {
      "cell_type": "code",
      "execution_count": 13,
      "metadata": {},
      "outputs": [],
      "source": [
        "def tratar_tableau_min(T, aux):\n",
        "    #Achar linhas com valores com variaveis de folga\n",
        "    m = 1000000\n",
        "    linhas= []\n",
        "    for i in range(len(aux)):\n",
        "        if aux[i] == \">\":\n",
        "            linhas.append(i)\n",
        "    #Agora temos que multiplicar as linhas por m \n",
        "    for i in linhas:\n",
        "        T[-1] = T[-1] + (T[i] * - m)\n",
        "    return T"
      ]
    },
    {
      "cell_type": "code",
      "execution_count": 14,
      "metadata": {
        "id": "c_81nv7tG5YL"
      },
      "outputs": [],
      "source": [
        "def achar_pivo(T):\n",
        "    # Encontrando a coluna do pivo\n",
        "    col_pivo = np.argmin(T[-1, :-1])\n",
        "    \n",
        "    # Encontrando a Linha do pivo\n",
        "    menor = np.inf\n",
        "    lin_pivo = -1\n",
        "    for i in range(len(T)):\n",
        "        if T[i, col_pivo] > 0:\n",
        "            aux = T[i, -1]/T[i, col_pivo]\n",
        "            if aux < menor:\n",
        "                lin_pivo = i\n",
        "                menor = aux\n",
        "    \n",
        "    return lin_pivo, col_pivo"
      ]
    },
    {
      "cell_type": "code",
      "execution_count": 15,
      "metadata": {
        "id": "NFKm_kIpJNYf"
      },
      "outputs": [],
      "source": [
        "def dividir_linha(T, col_pivo, lin_pivo): \n",
        "    pivo = T[lin_pivo, col_pivo]\n",
        "    for i in range(len(T[0])):\n",
        "        T[lin_pivo, i] = T[lin_pivo, i] / pivo\n",
        "    return T"
      ]
    },
    {
      "cell_type": "code",
      "execution_count": 16,
      "metadata": {
        "id": "2tH10ZP7L1dJ"
      },
      "outputs": [],
      "source": [
        "def subtrair_linhas(T, col_pivo, lin_pivo):\n",
        "    for i in range(T.shape[0]):\n",
        "        if i != lin_pivo:\n",
        "            multiplicador = T[i, col_pivo]\n",
        "            T[i, :] -= multiplicador * T[lin_pivo, :]\n",
        "    return T"
      ]
    },
    {
      "cell_type": "code",
      "execution_count": 17,
      "metadata": {
        "id": "O_BEu-QIMURG"
      },
      "outputs": [],
      "source": [
        "def simplex(A,b,c,aux,r):\n",
        "    '''\n",
        "    Entrada: A = Coef. das restrições \n",
        "             B = Resultado das restrições\n",
        "             C = Coef.  das variaveis da F.O\n",
        "    Saída:  Z = Valor ótimo\n",
        "            variaveis[] = Coef. ótimo das variaveis \n",
        "    '''\n",
        "    if r == 'max':\n",
        "        c = -c\n",
        "        T = criar_tableau(A,b,c)\n",
        "    else:\n",
        "        print(\"Minimização\")\n",
        "        '''\n",
        "        Para minimizar, temos que trabalhar com um tableau diferente, pois temos que tratar as restrições de maior e menor.\n",
        "        Para isso, criei ma função que cria um tableau para minimização, e outra que trata esse tableau.\n",
        "        Nessa implementação, optei pelo método BIG-M, que consiste em multiplicar a linha da função objetivo por um valor muito grande (m = 1000000) \n",
        "        '''\n",
        "        T = criar_tableau_min(A,b,c,aux)\n",
        "        T = tratar_tableau_min(T,aux)\n",
        "     #Primeiro passo do simplex, dado a F.O e as restrições, criar uma tabela (tableau) para ser manipulada.\n",
        "    while np.min(T[-1, :-1]) < 0:\n",
        "        '''\n",
        "        A grosso modo, o simplex é um método interativo que visa investigar os pontos extremos de uma função cortada pelas suas restrições.\n",
        "        Com isso, temos um loop que se repete até que não restem valores negativos na linha da função objetivo:\n",
        "            Achamos o pivo\n",
        "            Dividimos a linha por esse pivo\n",
        "            Subtraimos as linhas restantes a fim de zerar a coluna abaixo do pivo\n",
        "        '''\n",
        "        lin_pivo, col_pivo = achar_pivo(T)\n",
        "        T = dividir_linha(T, col_pivo, lin_pivo)\n",
        "        T = subtrair_linhas(T, col_pivo, lin_pivo)\n",
        "    Z = T[-1,-1]\n",
        "    if r == 'min':\n",
        "        Z = -Z\n",
        "    variaveis = []\n",
        "    for i in range(len(c)):\n",
        "        for j in range(len(T)):\n",
        "            if T[j,i] == 1:\n",
        "                variaveis.append(T[j,-1])\n",
        "                break\n",
        "    \n",
        "    return Z, variaveis"
      ]
    },
    {
      "cell_type": "code",
      "execution_count": 18,
      "metadata": {
        "colab": {
          "base_uri": "https://localhost:8080/"
        },
        "id": "9JBzfJrYOQwu",
        "outputId": "0cab5c9d-faa4-4c28-9a1e-b94ff4055e17"
      },
      "outputs": [
        {
          "name": "stdout",
          "output_type": "stream",
          "text": [
            "Minimização\n",
            "Z =  2.0\n",
            "Variaveis =  [2.0]\n"
          ]
        }
      ],
      "source": [
        "A = np.array([[5, -5],[3, 1]])\n",
        "b = np.array([10, 12])\n",
        "c = np.array([1,2])\n",
        "aux = np.array([\">\", \"<\"])\n",
        "r = 'min'\n",
        "Z, variaveis = simplex(A,b,c,aux,r)\n",
        "print(\"Z = \", Z)\n",
        "print(\"Variaveis = \", variaveis)\n"
      ]
    }
  ],
  "metadata": {
    "colab": {
      "provenance": []
    },
    "kernelspec": {
      "display_name": "Python 3",
      "language": "python",
      "name": "python3"
    },
    "language_info": {
      "codemirror_mode": {
        "name": "ipython",
        "version": 3
      },
      "file_extension": ".py",
      "mimetype": "text/x-python",
      "name": "python",
      "nbconvert_exporter": "python",
      "pygments_lexer": "ipython3",
      "version": "3.10.6"
    },
    "vscode": {
      "interpreter": {
        "hash": "3b5483ff35a5fa8881e424a2d53be89a5051762ff5f6e84bb24552199f34b66a"
      }
    }
  },
  "nbformat": 4,
  "nbformat_minor": 0
}
